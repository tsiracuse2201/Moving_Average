{
 "cells": [
  {
   "cell_type": "raw",
   "metadata": {},
   "source": [
    "#1.Sign up for a Finnhub API key at https://finnhub.io/docs/api.\n",
    "#2.Install the finnhub-python package using pip:\n"
   ]
  },
  {
   "cell_type": "code",
   "execution_count": 6,
   "metadata": {},
   "outputs": [
    {
     "name": "stdout",
     "output_type": "stream",
     "text": [
      "Requirement already satisfied: finnhub-python in /Users/tsiracuse/opt/anaconda3/lib/python3.8/site-packages (2.4.13)\n",
      "Requirement already satisfied: requests>=2.22.0 in /Users/tsiracuse/opt/anaconda3/lib/python3.8/site-packages (from finnhub-python) (2.24.0)\n",
      "Requirement already satisfied: urllib3!=1.25.0,!=1.25.1,<1.26,>=1.21.1 in /Users/tsiracuse/opt/anaconda3/lib/python3.8/site-packages (from requests>=2.22.0->finnhub-python) (1.25.11)\n",
      "Requirement already satisfied: certifi>=2017.4.17 in /Users/tsiracuse/opt/anaconda3/lib/python3.8/site-packages (from requests>=2.22.0->finnhub-python) (2020.6.20)\n",
      "Requirement already satisfied: idna<3,>=2.5 in /Users/tsiracuse/opt/anaconda3/lib/python3.8/site-packages (from requests>=2.22.0->finnhub-python) (2.10)\n",
      "Requirement already satisfied: chardet<4,>=3.0.2 in /Users/tsiracuse/opt/anaconda3/lib/python3.8/site-packages (from requests>=2.22.0->finnhub-python) (3.0.4)\n",
      "Note: you may need to restart the kernel to use updated packages.\n"
     ]
    }
   ],
   "source": [
    "pip install finnhub-python\n"
   ]
  },
  {
   "cell_type": "raw",
   "metadata": {},
   "source": [
    "#3.Import the necessary modules and set your API key:\n"
   ]
  },
  {
   "cell_type": "code",
   "execution_count": 7,
   "metadata": {},
   "outputs": [],
   "source": [
    "import finnhub\n",
    "import datetime\n",
    "finnhub_client = finnhub.Client(api_key='c9nclciad3if6tl7i78g')"
   ]
  },
  {
   "cell_type": "raw",
   "metadata": {},
   "source": [
    "#4.Define a function find_stocks that takes in a list of stock symbols and a number of days as input.\n",
    "#5.Retrieve the historical data for each stock using the finnhub_client.stock_candles function. You will need to specify the time period for which you want to retrieve the data (e.g., the past 2 weeks) and the time frame (e.g., daily).\n",
    "#6.Calculate the 50 day moving average and the 200 day moving average for each stock using the historical data.\n",
    "#7.Iterate through the list of stocks and check if the 50 day moving average of each stock went above the 200 day moving average in the past 2 weeks and stayed above the 200 day moving average for at least 2 weeks after it initially went above the 200 day moving average. You can use a loop and an if statement to do this.\n",
    "#8.For each stock that meets the criteria, add the stock symbol to a list of results.\n",
    "#9.Return the list of results.\n",
    "#10. also import datetime and get the current unix day where the screener will stop at"
   ]
  },
  {
   "cell_type": "code",
   "execution_count": 107,
   "metadata": {},
   "outputs": [],
   "source": [
    "#This makes sure that the 50 day moving average has been above the 200 for teh past 2 weeks to ensure no false signals \n",
    "#are raised\n",
    "def check_duration(data, days):\n",
    "    # Check if the 50 day moving average stayed above the 200 day moving average\n",
    "    # for at least the given number of days\n",
    "    ma50list = []\n",
    "    ma200list = []\n",
    "    i = 0\n",
    "    for x in data:\n",
    "        if i >=50:\n",
    "            ma50list.append(int(sum(data[i-49:i])/50))\n",
    "        if i >=200:\n",
    "            ma200list.append(int(sum(data[i-199:i])/200))\n",
    "        i+=1\n",
    "    duration = 0\n",
    "    i = (-13)\n",
    "    \n",
    "    while i<0:\n",
    "        if ma50list[i] > ma200list[i]:\n",
    "            duration += 1\n",
    "            if duration >= days:\n",
    "                return True\n",
    "            \n",
    "        i+=1\n",
    "    return False"
   ]
  },
  {
   "cell_type": "code",
   "execution_count": 108,
   "metadata": {},
   "outputs": [],
   "source": [
    "def calc_moving_average(data, days):\n",
    "    # Calculate the moving average for the given number of days\n",
    "    # using the historical data\n",
    "    ma = sum(data[-days:]) / days\n",
    "    return ma"
   ]
  },
  {
   "cell_type": "code",
   "execution_count": 109,
   "metadata": {
    "collapsed": true,
    "jupyter": {
     "outputs_hidden": true
    }
   },
   "outputs": [
    {
     "ename": "FinnhubAPIException",
     "evalue": "FinnhubAPIException(status_code: 429): API limit reached. Please try again later. Remaining Limit: 0",
     "output_type": "error",
     "traceback": [
      "\u001b[0;31m---------------------------------------------------------------------------\u001b[0m",
      "\u001b[0;31mFinnhubAPIException\u001b[0m                       Traceback (most recent call last)",
      "\u001b[0;32m<ipython-input-109-53de418b2a92>\u001b[0m in \u001b[0;36m<module>\u001b[0;34m\u001b[0m\n\u001b[1;32m     33\u001b[0m               \u001b[0;34m'LUV'\u001b[0m\u001b[0;34m,\u001b[0m \u001b[0;34m'DAL'\u001b[0m\u001b[0;34m,\u001b[0m \u001b[0;34m'HBAN'\u001b[0m\u001b[0;34m,\u001b[0m \u001b[0;34m'RF'\u001b[0m\u001b[0;34m,\u001b[0m \u001b[0;34m'ZM'\u001b[0m\u001b[0;34m,\u001b[0m \u001b[0;34m'HPE'\u001b[0m\u001b[0;34m,\u001b[0m \u001b[0;34m'BEKE'\u001b[0m\u001b[0;34m,\u001b[0m \u001b[0;34m'MRO'\u001b[0m\u001b[0;34m,\u001b[0m \u001b[0;34m'LI'\u001b[0m\u001b[0;34m,\u001b[0m \u001b[0;34m'UMC'\u001b[0m\u001b[0;34m,\u001b[0m \u001b[0;34m'NIO'\u001b[0m\u001b[0;34m,\u001b[0m \u001b[0;34m'LCID'\u001b[0m\u001b[0;34m,\u001b[0m\u001b[0;34m\u001b[0m\u001b[0;34m\u001b[0m\u001b[0m\n\u001b[1;32m     34\u001b[0m               'PINS', 'SNAP', 'EQT', 'APA', 'PLTR', 'UAL', 'HST', 'SUZ', 'CCL', 'TME', 'CCJ', 'GFI']\n\u001b[0;32m---> 35\u001b[0;31m \u001b[0mr\u001b[0m \u001b[0;34m=\u001b[0m \u001b[0mfind_stocks\u001b[0m\u001b[0;34m(\u001b[0m\u001b[0mstock_list\u001b[0m\u001b[0;34m)\u001b[0m\u001b[0;34m\u001b[0m\u001b[0;34m\u001b[0m\u001b[0m\n\u001b[0m\u001b[1;32m     36\u001b[0m \u001b[0mprint\u001b[0m\u001b[0;34m(\u001b[0m\u001b[0mr\u001b[0m\u001b[0;34m)\u001b[0m\u001b[0;34m\u001b[0m\u001b[0;34m\u001b[0m\u001b[0m\n",
      "\u001b[0;32m<ipython-input-109-53de418b2a92>\u001b[0m in \u001b[0;36mfind_stocks\u001b[0;34m(stocks)\u001b[0m\n\u001b[1;32m     12\u001b[0m     \u001b[0;32mfor\u001b[0m \u001b[0mstock\u001b[0m \u001b[0;32min\u001b[0m \u001b[0mstocks\u001b[0m\u001b[0;34m:\u001b[0m\u001b[0;34m\u001b[0m\u001b[0;34m\u001b[0m\u001b[0m\n\u001b[1;32m     13\u001b[0m         \u001b[0;31m# Retrieve the historical data for the stock\u001b[0m\u001b[0;34m\u001b[0m\u001b[0;34m\u001b[0m\u001b[0;34m\u001b[0m\u001b[0m\n\u001b[0;32m---> 14\u001b[0;31m         \u001b[0mdata\u001b[0m \u001b[0;34m=\u001b[0m \u001b[0mfinnhub_client\u001b[0m\u001b[0;34m.\u001b[0m\u001b[0mstock_candles\u001b[0m\u001b[0;34m(\u001b[0m\u001b[0mstock\u001b[0m\u001b[0;34m,\u001b[0m \u001b[0;34m'D'\u001b[0m\u001b[0;34m,\u001b[0m \u001b[0mint\u001b[0m\u001b[0;34m(\u001b[0m\u001b[0mpast_unix_timestamp\u001b[0m\u001b[0;34m)\u001b[0m\u001b[0;34m,\u001b[0m\u001b[0mint\u001b[0m\u001b[0;34m(\u001b[0m\u001b[0munix_timestamp_now\u001b[0m\u001b[0;34m)\u001b[0m\u001b[0;34m)\u001b[0m\u001b[0;34m\u001b[0m\u001b[0;34m\u001b[0m\u001b[0m\n\u001b[0m\u001b[1;32m     15\u001b[0m         \u001b[0mdata\u001b[0m \u001b[0;34m=\u001b[0m \u001b[0mdata\u001b[0m\u001b[0;34m[\u001b[0m\u001b[0;34m'c'\u001b[0m\u001b[0;34m]\u001b[0m\u001b[0;34m\u001b[0m\u001b[0;34m\u001b[0m\u001b[0m\n\u001b[1;32m     16\u001b[0m \u001b[0;34m\u001b[0m\u001b[0m\n",
      "\u001b[0;32m~/opt/anaconda3/lib/python3.8/site-packages/finnhub/client.py\u001b[0m in \u001b[0;36mstock_candles\u001b[0;34m(self, symbol, resolution, _from, to, **kwargs)\u001b[0m\n\u001b[1;32m    222\u001b[0m         }, kwargs)\n\u001b[1;32m    223\u001b[0m \u001b[0;34m\u001b[0m\u001b[0m\n\u001b[0;32m--> 224\u001b[0;31m         \u001b[0;32mreturn\u001b[0m \u001b[0mself\u001b[0m\u001b[0;34m.\u001b[0m\u001b[0m_get\u001b[0m\u001b[0;34m(\u001b[0m\u001b[0;34m\"/stock/candle\"\u001b[0m\u001b[0;34m,\u001b[0m \u001b[0mparams\u001b[0m\u001b[0;34m=\u001b[0m\u001b[0mparams\u001b[0m\u001b[0;34m)\u001b[0m\u001b[0;34m\u001b[0m\u001b[0;34m\u001b[0m\u001b[0m\n\u001b[0m\u001b[1;32m    225\u001b[0m \u001b[0;34m\u001b[0m\u001b[0m\n\u001b[1;32m    226\u001b[0m     \u001b[0;32mdef\u001b[0m \u001b[0mstock_tick\u001b[0m\u001b[0;34m(\u001b[0m\u001b[0mself\u001b[0m\u001b[0;34m,\u001b[0m \u001b[0msymbol\u001b[0m\u001b[0;34m,\u001b[0m \u001b[0mdate\u001b[0m\u001b[0;34m,\u001b[0m \u001b[0mlimit\u001b[0m\u001b[0;34m,\u001b[0m \u001b[0mskip\u001b[0m\u001b[0;34m,\u001b[0m \u001b[0m_format\u001b[0m\u001b[0;34m=\u001b[0m\u001b[0;34m'json'\u001b[0m\u001b[0;34m,\u001b[0m \u001b[0;34m**\u001b[0m\u001b[0mkwargs\u001b[0m\u001b[0;34m)\u001b[0m\u001b[0;34m:\u001b[0m\u001b[0;34m\u001b[0m\u001b[0;34m\u001b[0m\u001b[0m\n",
      "\u001b[0;32m~/opt/anaconda3/lib/python3.8/site-packages/finnhub/client.py\u001b[0m in \u001b[0;36m_get\u001b[0;34m(self, path, **kwargs)\u001b[0m\n\u001b[1;32m     69\u001b[0m \u001b[0;34m\u001b[0m\u001b[0m\n\u001b[1;32m     70\u001b[0m     \u001b[0;32mdef\u001b[0m \u001b[0m_get\u001b[0m\u001b[0;34m(\u001b[0m\u001b[0mself\u001b[0m\u001b[0;34m,\u001b[0m \u001b[0mpath\u001b[0m\u001b[0;34m,\u001b[0m \u001b[0;34m**\u001b[0m\u001b[0mkwargs\u001b[0m\u001b[0;34m)\u001b[0m\u001b[0;34m:\u001b[0m\u001b[0;34m\u001b[0m\u001b[0;34m\u001b[0m\u001b[0m\n\u001b[0;32m---> 71\u001b[0;31m         \u001b[0;32mreturn\u001b[0m \u001b[0mself\u001b[0m\u001b[0;34m.\u001b[0m\u001b[0m_request\u001b[0m\u001b[0;34m(\u001b[0m\u001b[0;34m\"get\"\u001b[0m\u001b[0;34m,\u001b[0m \u001b[0mpath\u001b[0m\u001b[0;34m,\u001b[0m \u001b[0;34m**\u001b[0m\u001b[0mkwargs\u001b[0m\u001b[0;34m)\u001b[0m\u001b[0;34m\u001b[0m\u001b[0;34m\u001b[0m\u001b[0m\n\u001b[0m\u001b[1;32m     72\u001b[0m \u001b[0;34m\u001b[0m\u001b[0m\n\u001b[1;32m     73\u001b[0m     \u001b[0;34m@\u001b[0m\u001b[0mproperty\u001b[0m\u001b[0;34m\u001b[0m\u001b[0;34m\u001b[0m\u001b[0m\n",
      "\u001b[0;32m~/opt/anaconda3/lib/python3.8/site-packages/finnhub/client.py\u001b[0m in \u001b[0;36m_request\u001b[0;34m(self, method, path, **kwargs)\u001b[0m\n\u001b[1;32m     39\u001b[0m \u001b[0;34m\u001b[0m\u001b[0m\n\u001b[1;32m     40\u001b[0m         \u001b[0mresponse\u001b[0m \u001b[0;34m=\u001b[0m \u001b[0mgetattr\u001b[0m\u001b[0;34m(\u001b[0m\u001b[0mself\u001b[0m\u001b[0;34m.\u001b[0m\u001b[0m_session\u001b[0m\u001b[0;34m,\u001b[0m \u001b[0mmethod\u001b[0m\u001b[0;34m)\u001b[0m\u001b[0;34m(\u001b[0m\u001b[0muri\u001b[0m\u001b[0;34m,\u001b[0m \u001b[0;34m**\u001b[0m\u001b[0mkwargs\u001b[0m\u001b[0;34m)\u001b[0m\u001b[0;34m\u001b[0m\u001b[0;34m\u001b[0m\u001b[0m\n\u001b[0;32m---> 41\u001b[0;31m         \u001b[0;32mreturn\u001b[0m \u001b[0mself\u001b[0m\u001b[0;34m.\u001b[0m\u001b[0m_handle_response\u001b[0m\u001b[0;34m(\u001b[0m\u001b[0mresponse\u001b[0m\u001b[0;34m)\u001b[0m\u001b[0;34m\u001b[0m\u001b[0;34m\u001b[0m\u001b[0m\n\u001b[0m\u001b[1;32m     42\u001b[0m \u001b[0;34m\u001b[0m\u001b[0m\n\u001b[1;32m     43\u001b[0m     \u001b[0;34m@\u001b[0m\u001b[0mstaticmethod\u001b[0m\u001b[0;34m\u001b[0m\u001b[0;34m\u001b[0m\u001b[0m\n",
      "\u001b[0;32m~/opt/anaconda3/lib/python3.8/site-packages/finnhub/client.py\u001b[0m in \u001b[0;36m_handle_response\u001b[0;34m(response)\u001b[0m\n\u001b[1;32m     44\u001b[0m     \u001b[0;32mdef\u001b[0m \u001b[0m_handle_response\u001b[0m\u001b[0;34m(\u001b[0m\u001b[0mresponse\u001b[0m\u001b[0;34m)\u001b[0m\u001b[0;34m:\u001b[0m\u001b[0;34m\u001b[0m\u001b[0;34m\u001b[0m\u001b[0m\n\u001b[1;32m     45\u001b[0m         \u001b[0;32mif\u001b[0m \u001b[0;32mnot\u001b[0m \u001b[0mresponse\u001b[0m\u001b[0;34m.\u001b[0m\u001b[0mok\u001b[0m\u001b[0;34m:\u001b[0m\u001b[0;34m\u001b[0m\u001b[0;34m\u001b[0m\u001b[0m\n\u001b[0;32m---> 46\u001b[0;31m             \u001b[0;32mraise\u001b[0m \u001b[0mFinnhubAPIException\u001b[0m\u001b[0;34m(\u001b[0m\u001b[0mresponse\u001b[0m\u001b[0;34m)\u001b[0m\u001b[0;34m\u001b[0m\u001b[0;34m\u001b[0m\u001b[0m\n\u001b[0m\u001b[1;32m     47\u001b[0m \u001b[0;34m\u001b[0m\u001b[0m\n\u001b[1;32m     48\u001b[0m         \u001b[0;32mtry\u001b[0m\u001b[0;34m:\u001b[0m\u001b[0;34m\u001b[0m\u001b[0;34m\u001b[0m\u001b[0m\n",
      "\u001b[0;31mFinnhubAPIException\u001b[0m: FinnhubAPIException(status_code: 429): API limit reached. Please try again later. Remaining Limit: 0"
     ]
    }
   ],
   "source": [
    "def find_stocks(stocks):\n",
    "    now = datetime.datetime.now()\n",
    "\n",
    "    # Get the Unix time stamp for the current date and time\n",
    "    unix_timestamp_now = now.timestamp()\n",
    "    # Subtract 363 days from the current date and time\n",
    "    past_date = now - datetime.timedelta(days=363)\n",
    "    # Get the Unix time stamp for the date and time that is 363 days before the current date and time\n",
    "    past_unix_timestamp = past_date.timestamp()\n",
    "    results = []\n",
    "    \n",
    "    for stock in stocks:\n",
    "        # Retrieve the historical data for the stock\n",
    "        data = finnhub_client.stock_candles(stock, 'D', int(past_unix_timestamp),int(unix_timestamp_now))\n",
    "        data = data['c']\n",
    "       \n",
    "        # Calculate the 50 day moving average and the 200 day moving average\n",
    "        ma50 = calc_moving_average(data, 50)\n",
    "      \n",
    "        ma200 = calc_moving_average(data, 200)\n",
    "        \n",
    "        #Check if the 50 day moving average went above the 200 day moving average in the past 2 weeks\n",
    "        if ma50 > ma200 and check_duration(data, 12):\n",
    "            results.append(stock)\n",
    "    return results\n",
    "stock_list = ['AAPL', 'MSFT', 'TSLA', 'JNJ', 'JPM', 'XOM', 'V', 'WMT', 'TSM', \n",
    "               'NVDA', 'BAC', 'CVX', 'ABBV', 'PFE', 'MRK', 'KO', 'ORCL', 'BABA', \n",
    "               'CSCO', 'ABT', 'WFC', 'DIS', 'BMY', 'NKE', 'NEE', 'VZ', 'MS', 'COP', \n",
    "               'CMCSA', 'SCHW', 'T', 'C', 'INTC', 'AMD', 'BP', 'BA','JD', 'GE', 'TJX', \n",
    "              'MO', 'VALE', 'PBR', 'SLB', 'CSX', 'PBR-A', 'MRNA', 'OXY', 'MU', 'GM', 'UBER', \n",
    "              'F', 'FCX', 'ABEV', 'ITUB', 'SU', 'DVN', 'KMI', 'LYG', 'CVE', 'ET', 'CARR', \n",
    "              'KR', 'LVS', 'HAL', 'CPNG', 'BBD', 'PCG', 'HPQ', 'BKR', 'GOLD', 'NOK', 'SIRI', \n",
    "              'LUV', 'DAL', 'HBAN', 'RF', 'ZM', 'HPE', 'BEKE', 'MRO', 'LI', 'UMC', 'NIO', 'LCID', \n",
    "              'PINS', 'SNAP', 'EQT', 'APA', 'PLTR', 'UAL', 'HST', 'SUZ', 'CCL', 'TME', 'CCJ', 'GFI']\n",
    "r = find_stocks(stock_list)\n",
    "print(r)"
   ]
  },
  {
   "cell_type": "code",
   "execution_count": null,
   "metadata": {},
   "outputs": [],
   "source": []
  },
  {
   "cell_type": "code",
   "execution_count": null,
   "metadata": {},
   "outputs": [],
   "source": []
  }
 ],
 "metadata": {
  "kernelspec": {
   "display_name": "Python 3",
   "language": "python",
   "name": "python3"
  },
  "language_info": {
   "codemirror_mode": {
    "name": "ipython",
    "version": 3
   },
   "file_extension": ".py",
   "mimetype": "text/x-python",
   "name": "python",
   "nbconvert_exporter": "python",
   "pygments_lexer": "ipython3",
   "version": "3.8.5"
  }
 },
 "nbformat": 4,
 "nbformat_minor": 4
}
