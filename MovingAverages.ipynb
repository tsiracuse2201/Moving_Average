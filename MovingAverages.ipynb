{
 "cells": [
  {
   "cell_type": "code",
   "execution_count": null,
   "metadata": {},
   "outputs": [],
   "source": [
    "import pandas_datareader as pdr\n",
    "import datetime\n",
    "\n",
    "# Set the start and end dates\n",
    "start_date = datetime.datetime(2020, 1, 1)\n",
    "end_date = datetime.datetime(2020, 12, 31)\n",
    "\n",
    "# Fetch the stock data using the ticker symbol\n",
    "ticker = \"AAPL\"\n",
    "data = pdr.get_data_yahoo(ticker, start_date, end_date)\n",
    "\n",
    "# Calculate the 50-day and 200-day moving averages\n",
    "data[\"50ma\"] = data[\"Close\"].rolling(window=50).mean()\n",
    "data[\"200ma\"] = data[\"Close\"].rolling(window=200).mean()\n",
    "\n",
    "# Display the resulting data\n",
    "print(data)"
   ]
  }
 ],
 "metadata": {
  "kernelspec": {
   "display_name": "Python 3",
   "language": "python",
   "name": "python3"
  },
  "language_info": {
   "codemirror_mode": {
    "name": "ipython",
    "version": 3
   },
   "file_extension": ".py",
   "mimetype": "text/x-python",
   "name": "python",
   "nbconvert_exporter": "python",
   "pygments_lexer": "ipython3",
   "version": "3.8.5"
  }
 },
 "nbformat": 4,
 "nbformat_minor": 4
}
